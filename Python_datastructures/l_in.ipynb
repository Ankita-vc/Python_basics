{
 "cells": [
  {
   "cell_type": "code",
   "execution_count": 1,
   "metadata": {},
   "outputs": [
    {
     "name": "stdout",
     "output_type": "stream",
     "text": [
      "https://www.linkedin.com/uas/oauth2/authorization?scope=r_basicprofile%20rw_nus%20r_network%20r_contactinfo%20w_messages%20rw_groups%20r_emailaddress%20r_fullprofile&state=ff35b8b8243ce7fafbf0d220f28097d3&redirect_uri=https%3A//www.linkedin.com/oauth/v2/authorization&response_type=code&client_id=81bb87kgey2uen\n"
     ]
    }
   ],
   "source": [
    "from linkedin.linkedin import (LinkedInAuthentication, LinkedInApplication,\n",
    "                               PERMISSIONS)\n",
    "\n",
    "\n",
    "if __name__ == '__main__':\n",
    "    API_KEY = '81bb87kgey2uen'\n",
    "    API_SECRET = 'RsrMeXm9RPC86jUR'\n",
    "    RETURN_URL = 'https://www.linkedin.com/oauth/v2/authorization'\n",
    "    authentication = LinkedInAuthentication(API_KEY, API_SECRET, RETURN_URL,\n",
    "                                            PERMISSIONS.enums.values())\n",
    "    print(authentication.authorization_url)\n",
    "    application = LinkedInApplication(authentication)"
   ]
  },
  {
   "cell_type": "code",
   "execution_count": 6,
   "metadata": {},
   "outputs": [
    {
     "name": "stdout",
     "output_type": "stream",
     "text": [
      "https://www.linkedin.com/uas/oauth2/authorization?scope=r_basicprofile%20rw_nus%20r_network%20r_contactinfo%20w_messages%20rw_groups%20r_emailaddress%20r_fullprofile&state=a4ea1f44eec0d7bce2d0376d5a0051b7&redirect_uri=http%3A//localhost%3A8000&response_type=code&client_id=81bb87kgey2uen\n"
     ]
    }
   ],
   "source": [
    "from linkedin import linkedin\n",
    "\n",
    "API_KEY = \"81bb87kgey2uen\"\n",
    "API_SECRET = \"RsrMeXm9RPC86jUR\"\n",
    "RETURN_URL = \"http://localhost:8000\"\n",
    "authentication = linkedin.LinkedInAuthentication(API_KEY, API_SECRET, RETURN_URL, linkedin.PERMISSIONS.enums.values())\n",
    "print authentication.authorization_url\n",
    "application = linkedin.LinkedInApplication(authentication)"
   ]
  },
  {
   "cell_type": "code",
   "execution_count": null,
   "metadata": {},
   "outputs": [
    {
     "name": "stdout",
     "output_type": "stream",
     "text": [
      "Server started on port:8080\n"
     ]
    },
    {
     "name": "stderr",
     "output_type": "stream",
     "text": [
      "127.0.0.1 - - [01/Nov/2018 12:05:53] \"GET / HTTP/1.1\" 200 -\n",
      "Traceback (most recent call last):\n",
      "  File \"/home/ankita/anaconda3/envs/py27/lib/python2.7/SocketServer.py\", line 596, in process_request_thread\n",
      "    self.finish_request(request, client_address)\n",
      "  File \"/home/ankita/anaconda3/envs/py27/lib/python2.7/SocketServer.py\", line 331, in finish_request\n",
      "    self.RequestHandlerClass(request, client_address, self)\n",
      "  File \"/home/ankita/anaconda3/envs/py27/lib/python2.7/SocketServer.py\", line 652, in __init__\n",
      "    self.handle()\n",
      "  File \"/home/ankita/anaconda3/envs/py27/lib/python2.7/BaseHTTPServer.py\", line 340, in handle\n",
      "    self.handle_one_request()\n",
      "  File \"/home/ankita/anaconda3/envs/py27/lib/python2.7/BaseHTTPServer.py\", line 328, in handle_one_request\n",
      "    method()\n",
      "  File \"<ipython-input-1-eb56236f3672>\", line 65, in do_GET\n",
      "    open_new_tab(liw.authentication.authorization_url)\n",
      "  File \"/home/ankita/anaconda3/envs/py27/lib/python2.7/site-packages/linkedin/linkedin.py\", line 96, in authorization_url\n",
      "    qsl = ['%s=%s' % (urllib.quote(k), urllib.quote(v)) for k, v in qd.items()]\n",
      "  File \"/home/ankita/anaconda3/envs/py27/lib/python2.7/urllib.py\", line 1285, in quote\n",
      "    raise TypeError('None object cannot be quoted')\n",
      "TypeError: None object cannot be quoted\n",
      "127.0.0.1 - - [01/Nov/2018 12:05:53] \"GET /favicon.ico HTTP/1.1\" 200 -\n",
      "Traceback (most recent call last):\n",
      "  File \"/home/ankita/anaconda3/envs/py27/lib/python2.7/SocketServer.py\", line 596, in process_request_thread\n",
      "    self.finish_request(request, client_address)\n",
      "  File \"/home/ankita/anaconda3/envs/py27/lib/python2.7/SocketServer.py\", line 331, in finish_request\n",
      "    self.RequestHandlerClass(request, client_address, self)\n",
      "  File \"/home/ankita/anaconda3/envs/py27/lib/python2.7/SocketServer.py\", line 652, in __init__\n",
      "    self.handle()\n",
      "  File \"/home/ankita/anaconda3/envs/py27/lib/python2.7/BaseHTTPServer.py\", line 340, in handle\n",
      "    self.handle_one_request()\n",
      "  File \"/home/ankita/anaconda3/envs/py27/lib/python2.7/BaseHTTPServer.py\", line 328, in handle_one_request\n",
      "    method()\n",
      "  File \"<ipython-input-1-eb56236f3672>\", line 65, in do_GET\n",
      "    open_new_tab(liw.authentication.authorization_url)\n",
      "  File \"/home/ankita/anaconda3/envs/py27/lib/python2.7/site-packages/linkedin/linkedin.py\", line 96, in authorization_url\n",
      "    qsl = ['%s=%s' % (urllib.quote(k), urllib.quote(v)) for k, v in qd.items()]\n",
      "  File \"/home/ankita/anaconda3/envs/py27/lib/python2.7/urllib.py\", line 1285, in quote\n",
      "    raise TypeError('None object cannot be quoted')\n",
      "TypeError: None object cannot be quoted\n"
     ]
    },
    {
     "name": "stdout",
     "output_type": "stream",
     "text": [
      "----------------------------------------\n",
      "Exception happened during processing of request from ('127.0.0.1', 38876)\n",
      "----------------------------------------\n",
      "----------------------------------------\n",
      "Exception happened during processing of request from ('127.0.0.1', 38880)\n",
      "----------------------------------------\n"
     ]
    },
    {
     "name": "stderr",
     "output_type": "stream",
     "text": [
      "127.0.0.1 - - [01/Nov/2018 12:15:33] \"GET /code/ HTTP/1.1\" 200 -\n",
      "Traceback (most recent call last):\n",
      "  File \"/home/ankita/anaconda3/envs/py27/lib/python2.7/SocketServer.py\", line 596, in process_request_thread\n",
      "    self.finish_request(request, client_address)\n",
      "  File \"/home/ankita/anaconda3/envs/py27/lib/python2.7/SocketServer.py\", line 331, in finish_request\n",
      "    self.RequestHandlerClass(request, client_address, self)\n",
      "  File \"/home/ankita/anaconda3/envs/py27/lib/python2.7/SocketServer.py\", line 652, in __init__\n",
      "    self.handle()\n",
      "  File \"/home/ankita/anaconda3/envs/py27/lib/python2.7/BaseHTTPServer.py\", line 340, in handle\n",
      "    self.handle_one_request()\n",
      "  File \"/home/ankita/anaconda3/envs/py27/lib/python2.7/BaseHTTPServer.py\", line 328, in handle_one_request\n",
      "    method()\n",
      "  File \"<ipython-input-1-eb56236f3672>\", line 65, in do_GET\n",
      "    open_new_tab(liw.authentication.authorization_url)\n",
      "  File \"/home/ankita/anaconda3/envs/py27/lib/python2.7/site-packages/linkedin/linkedin.py\", line 96, in authorization_url\n",
      "    qsl = ['%s=%s' % (urllib.quote(k), urllib.quote(v)) for k, v in qd.items()]\n",
      "  File \"/home/ankita/anaconda3/envs/py27/lib/python2.7/urllib.py\", line 1285, in quote\n",
      "    raise TypeError('None object cannot be quoted')\n",
      "TypeError: None object cannot be quoted\n",
      "127.0.0.1 - - [01/Nov/2018 12:15:34] \"GET /favicon.ico HTTP/1.1\" 200 -\n",
      "Traceback (most recent call last):\n",
      "  File \"/home/ankita/anaconda3/envs/py27/lib/python2.7/SocketServer.py\", line 596, in process_request_thread\n",
      "    self.finish_request(request, client_address)\n",
      "  File \"/home/ankita/anaconda3/envs/py27/lib/python2.7/SocketServer.py\", line 331, in finish_request\n",
      "    self.RequestHandlerClass(request, client_address, self)\n",
      "  File \"/home/ankita/anaconda3/envs/py27/lib/python2.7/SocketServer.py\", line 652, in __init__\n",
      "    self.handle()\n",
      "  File \"/home/ankita/anaconda3/envs/py27/lib/python2.7/BaseHTTPServer.py\", line 340, in handle\n",
      "    self.handle_one_request()\n",
      "  File \"/home/ankita/anaconda3/envs/py27/lib/python2.7/BaseHTTPServer.py\", line 328, in handle_one_request\n",
      "    method()\n",
      "  File \"<ipython-input-1-eb56236f3672>\", line 65, in do_GET\n",
      "    open_new_tab(liw.authentication.authorization_url)\n",
      "  File \"/home/ankita/anaconda3/envs/py27/lib/python2.7/site-packages/linkedin/linkedin.py\", line 96, in authorization_url\n",
      "    qsl = ['%s=%s' % (urllib.quote(k), urllib.quote(v)) for k, v in qd.items()]\n",
      "  File \"/home/ankita/anaconda3/envs/py27/lib/python2.7/urllib.py\", line 1285, in quote\n",
      "    raise TypeError('None object cannot be quoted')\n",
      "TypeError: None object cannot be quoted\n"
     ]
    },
    {
     "name": "stdout",
     "output_type": "stream",
     "text": [
      "----------------------------------------\n",
      "Exception happened during processing of request from ('127.0.0.1', 39016)\n",
      "----------------------------------------\n",
      "----------------------------------------\n",
      "Exception happened during processing of request from ('127.0.0.1', 39020)\n",
      "----------------------------------------\n"
     ]
    }
   ],
   "source": [
    "\n",
    "#__author__ = 'Samuel Marks <samuelmarks@gmail.com>'\n",
    "#__version__ = '0.1.0'\n",
    "\n",
    "try:\n",
    "    from urllib.parse import urlparse\n",
    "except ImportError:\n",
    "    from urlparse import urlparse\n",
    "    \n",
    "#import SimpleHTTPServer \n",
    "from SocketServer import ThreadingTCPServer\n",
    "#from http.server import SimpleHTTPRequestHandler\n",
    "from SimpleHTTPServer import SimpleHTTPRequestHandler \n",
    "\n",
    "from webbrowser import open_new_tab\n",
    "from json import dumps\n",
    "from os import environ\n",
    "\n",
    "\n",
    "from linkedin.linkedin import LinkedInAuthentication, LinkedInApplication, PERMISSIONS\n",
    "\n",
    "PORT = 8080\n",
    "\n",
    "\n",
    "class LinkedInWrapper(object):\n",
    "    \"\"\" Simple namespacing \"\"\"\n",
    "    API_KEY = environ.get('81bb87kgey2uen')\n",
    "    API_SECRET = environ.get('RsrMeXm9RPC86jUR')\n",
    "    RETURN_URL = 'http://localhost:{0}/code'.format(globals()['PORT'])\n",
    "    authentication = LinkedInAuthentication(API_KEY, API_SECRET, RETURN_URL, PERMISSIONS.enums.values())\n",
    "    application = LinkedInApplication(authentication)\n",
    "\n",
    "\n",
    "liw = LinkedInWrapper()\n",
    "run_already = False\n",
    "params_to_d = lambda params: {\n",
    "    l[0]: l[1] for l in map(lambda j: j.split('='), urlparse(params).query.split('&'))\n",
    "}\n",
    "\n",
    "\n",
    "class CustomHandler(SimpleHTTPRequestHandler):\n",
    "    def json_headers(self, status_code=200):\n",
    "        self.send_response(status_code)\n",
    "        self.send_header('Content-type', 'application/json')\n",
    "        self.end_headers()\n",
    "\n",
    "    def do_GET(self):\n",
    "        parsedurl = urlparse(self.path)\n",
    "        authed = liw.authentication.token is not None\n",
    "\n",
    "        if parsedurl.path == '/code':\n",
    "            self.json_headers()\n",
    "\n",
    "            liw.authentication.authorization_code = params_to_d(self.path).get('code')\n",
    "            self.wfile.write(dumps({'access_token': liw.authentication.get_access_token(),\n",
    "                                    'routes': list(filter(lambda d: not d.startswith('_'), dir(liw.application)))}).encode('utf8'))\n",
    "        elif parsedurl.path == '/routes':\n",
    "            self.json_headers()\n",
    "\n",
    "            self.wfile.write(dumps({'routes': list(filter(lambda d: not d.startswith('_'), dir(liw.application)))}).encode('utf8'))\n",
    "        elif not authed:\n",
    "            self.json_headers()\n",
    "\n",
    "            if not globals()['run_already']:\n",
    "                open_new_tab(liw.authentication.authorization_url)\n",
    "            globals()['run_already'] = True\n",
    "            self.wfile.write(dumps({'path': self.path, 'authed': type(liw.authentication.token) is None}).encode('utf8'))\n",
    "        elif authed and len(parsedurl.path) and parsedurl.path[1:] in dir(liw.application):\n",
    "            self.json_headers()\n",
    "            self.wfile.write(dumps(getattr(liw.application, parsedurl.path[1:])()).encode('utf8'))\n",
    "        else:\n",
    "            self.json_headers(501)\n",
    "            self.wfile.write(dumps({'error': 'NotImplemented'}).encode('utf8'))\n",
    "\n",
    "\n",
    "if __name__ == '__main__':\n",
    "    httpd = ThreadingTCPServer(('localhost', PORT), CustomHandler)\n",
    "\n",
    "    print('Server started on port:{}'.format(PORT))\n",
    "    httpd.serve_forever()\n"
   ]
  },
  {
   "cell_type": "code",
   "execution_count": 12,
   "metadata": {},
   "outputs": [
    {
     "name": "stdout",
     "output_type": "stream",
     "text": [
      "/home/ankita/anaconda3/bin/python\r\n"
     ]
    }
   ],
   "source": [
    "! which python"
   ]
  },
  {
   "cell_type": "code",
   "execution_count": 2,
   "metadata": {},
   "outputs": [
    {
     "ename": "LinkedInError",
     "evalue": "401 Client Error: Unauthorized for url: https://api.linkedin.com/v1/people/~: Unknown Error",
     "output_type": "error",
     "traceback": [
      "\u001b[0;31m---------------------------------------------------------------------------\u001b[0m",
      "\u001b[0;31mLinkedInError\u001b[0m                             Traceback (most recent call last)",
      "\u001b[0;32m<ipython-input-2-890d16cc4dce>\u001b[0m in \u001b[0;36m<module>\u001b[0;34m()\u001b[0m\n\u001b[1;32m     21\u001b[0m \u001b[0;31m# Use the app....\u001b[0m\u001b[0;34m\u001b[0m\u001b[0;34m\u001b[0m\u001b[0m\n\u001b[1;32m     22\u001b[0m \u001b[0;34m\u001b[0m\u001b[0m\n\u001b[0;32m---> 23\u001b[0;31m \u001b[0mapplication\u001b[0m\u001b[0;34m.\u001b[0m\u001b[0mget_profile\u001b[0m\u001b[0;34m(\u001b[0m\u001b[0;34m)\u001b[0m\u001b[0;34m\u001b[0m\u001b[0m\n\u001b[0m",
      "\u001b[0;32m/home/ankita/anaconda3/envs/py27/lib/python2.7/site-packages/linkedin/linkedin.pyc\u001b[0m in \u001b[0;36mget_profile\u001b[0;34m(self, member_id, member_url, selectors, params, headers)\u001b[0m\n\u001b[1;32m    177\u001b[0m \u001b[0;34m\u001b[0m\u001b[0m\n\u001b[1;32m    178\u001b[0m         \u001b[0mresponse\u001b[0m \u001b[0;34m=\u001b[0m \u001b[0mself\u001b[0m\u001b[0;34m.\u001b[0m\u001b[0mmake_request\u001b[0m\u001b[0;34m(\u001b[0m\u001b[0;34m'GET'\u001b[0m\u001b[0;34m,\u001b[0m \u001b[0murl\u001b[0m\u001b[0;34m,\u001b[0m \u001b[0mparams\u001b[0m\u001b[0;34m=\u001b[0m\u001b[0mparams\u001b[0m\u001b[0;34m,\u001b[0m \u001b[0mheaders\u001b[0m\u001b[0;34m=\u001b[0m\u001b[0mheaders\u001b[0m\u001b[0;34m)\u001b[0m\u001b[0;34m\u001b[0m\u001b[0m\n\u001b[0;32m--> 179\u001b[0;31m         \u001b[0mraise_for_error\u001b[0m\u001b[0;34m(\u001b[0m\u001b[0mresponse\u001b[0m\u001b[0;34m)\u001b[0m\u001b[0;34m\u001b[0m\u001b[0m\n\u001b[0m\u001b[1;32m    180\u001b[0m         \u001b[0;32mreturn\u001b[0m \u001b[0mresponse\u001b[0m\u001b[0;34m.\u001b[0m\u001b[0mjson\u001b[0m\u001b[0;34m(\u001b[0m\u001b[0;34m)\u001b[0m\u001b[0;34m\u001b[0m\u001b[0m\n\u001b[1;32m    181\u001b[0m \u001b[0;34m\u001b[0m\u001b[0m\n",
      "\u001b[0;32m/home/ankita/anaconda3/envs/py27/lib/python2.7/site-packages/linkedin/utils.pyc\u001b[0m in \u001b[0;36mraise_for_error\u001b[0;34m(response)\u001b[0m\n\u001b[1;32m     61\u001b[0m                 message = '%s: %s' % (response.get('error', error.message),\n\u001b[1;32m     62\u001b[0m                                       response.get('error_description', 'Unknown Error'))\n\u001b[0;32m---> 63\u001b[0;31m                 \u001b[0;32mraise\u001b[0m \u001b[0mLinkedInError\u001b[0m\u001b[0;34m(\u001b[0m\u001b[0mmessage\u001b[0m\u001b[0;34m)\u001b[0m\u001b[0;34m\u001b[0m\u001b[0m\n\u001b[0m\u001b[1;32m     64\u001b[0m             \u001b[0;32melse\u001b[0m\u001b[0;34m:\u001b[0m\u001b[0;34m\u001b[0m\u001b[0m\n\u001b[1;32m     65\u001b[0m                 \u001b[0;32mraise\u001b[0m \u001b[0mLinkedInError\u001b[0m\u001b[0;34m(\u001b[0m\u001b[0merror\u001b[0m\u001b[0;34m.\u001b[0m\u001b[0mmessage\u001b[0m\u001b[0;34m)\u001b[0m\u001b[0;34m\u001b[0m\u001b[0m\n",
      "\u001b[0;31mLinkedInError\u001b[0m: 401 Client Error: Unauthorized for url: https://api.linkedin.com/v1/people/~: Unknown Error"
     ]
    }
   ],
   "source": [
    "from linkedin import linkedin\n",
    "\n",
    "# Define CONSUMER_KEY, CONSUMER_SECRET,  \n",
    "# USER_TOKEN, and USER_SECRET from the credentials \n",
    "# provided in your LinkedIn application\n",
    "\n",
    "# Instantiate the developer authentication class\n",
    "\n",
    "CONSUMER_KEY = \"8149bpotb7qi6y\"\n",
    "CONSUMER_SECRET = \"nfcoqQeepGS3kfqP\"\n",
    "RETURN_URL = \"http://localhost:8000\"\n",
    "\n",
    "authentication = linkedin.LinkedInDeveloperAuthentication(CONSUMER_KEY, CONSUMER_SECRET, \n",
    "                                                          'ac291096a@gmail.com', 'Ankita_29', \n",
    "                                                          RETURN_URL, linkedin.PERMISSIONS.enums.values())\n",
    "\n",
    "# Pass it in to the app...\n",
    "\n",
    "application = linkedin.LinkedInApplication(authentication)\n",
    "\n",
    "# Use the app....\n",
    "\n",
    "application.get_profile()"
   ]
  },
  {
   "cell_type": "code",
   "execution_count": null,
   "metadata": {},
   "outputs": [],
   "source": [
    "from linkedin import linkedin\n",
    "\n",
    "# Define CONSUMER_KEY, CONSUMER_SECRET,\n",
    "# USER_TOKEN, and USER_SECRET from the credentials\n",
    "# provided in your LinkedIn application\n",
    "\n",
    "# Instantiate the developer authentication class\n",
    "\n",
    "authentication = linkedin.LinkedInDeveloperAuthentication(\n",
    "                    CONSUMER_KEY,\n",
    "                    CONSUMER_SECRET,\n",
    "                    USER_TOKEN,\n",
    "                    USER_SECRET,\n",
    "                    RETURN_URL,\n",
    "                    linkedin.PERMISSIONS.enums.values()\n",
    "                )\n",
    "\n",
    "# Optionally one can send custom \"state\" value that will be returned from OAuth server\n",
    "# It can be used to track your user state or something else (it's up to you)\n",
    "# Be aware that this value is sent to OAuth server AS IS - make sure to encode or hash it\n",
    "\n",
    "# authorization.state = 'your_encoded_message'\n",
    "\n",
    "# Pass it in to the app...\n",
    "\n",
    "application = linkedin.LinkedInApplication(authentication)\n",
    "\n",
    "# Use the app....\n",
    "\n",
    "application.get_profile()"
   ]
  }
 ],
 "metadata": {
  "kernelspec": {
   "display_name": "Python 2",
   "language": "python",
   "name": "python2"
  },
  "language_info": {
   "codemirror_mode": {
    "name": "ipython",
    "version": 2
   },
   "file_extension": ".py",
   "mimetype": "text/x-python",
   "name": "python",
   "nbconvert_exporter": "python",
   "pygments_lexer": "ipython2",
   "version": "2.7.15"
  }
 },
 "nbformat": 4,
 "nbformat_minor": 2
}
