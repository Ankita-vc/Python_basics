{
 "cells": [
  {
   "cell_type": "code",
   "execution_count": 2,
   "metadata": {},
   "outputs": [],
   "source": [
    "import facebook\n"
   ]
  },
  {
   "cell_type": "code",
   "execution_count": 3,
   "metadata": {},
   "outputs": [],
   "source": [
    "token=\"EAACh7rYfWOoBAJV5CEHpSXFgUp1N92Nz8IJ4FcNb797ob52edUQro2mAy8LrZADlSItnZChkbWnH87vXZAU2AA9JJjtGvKQFS71MTORLkUQUUKlKD4SvLhKBpc6N1sYjHsUhrxghzhy3Dl85H9sXk4EMKgnb2EZD\"\n",
    "\n",
    "graph = facebook.GraphAPI(access_token=token, version = 3.0)\n",
    "events = graph.request(\"/1817955871593028/feed\")\n",
    "#events = graph.request(\"/v3.0/10217805920645250/feed\")\n",
    "#events = graph.request(\"/me?fields=id,name\")"
   ]
  },
  {
   "cell_type": "code",
   "execution_count": 13,
   "metadata": {},
   "outputs": [
    {
     "data": {
      "text/plain": [
       "{'data': [{'message': \"Open  for  all... Just Grab  It... I M Let's.. WE R Let's\",\n",
       "   'story': \"Madhuri Rathod added a new photo to Let's Dance Academy's timeline — with Snehal Pawar and 35 others.\",\n",
       "   'created_time': '2018-10-03T11:07:38+0000',\n",
       "   'id': '1817955871593028_1781070271948255'},\n",
       "  {'created_time': '2018-04-21T05:08:27+0000',\n",
       "   'id': '1817955871593028_1575453122509972'},\n",
       "  {'created_time': '2018-04-16T08:29:01+0000',\n",
       "   'id': '1817955871593028_1570899496298668'},\n",
       "  {'message': 'Please spare your 1 minute for a step towards justice for Asifa.',\n",
       "   'created_time': '2018-04-14T07:40:47+0000',\n",
       "   'id': '1817955871593028_1568915413163743'},\n",
       "  {'message': 'COEP COMP 2014-2018  <3 <3',\n",
       "   'created_time': '2018-04-13T07:52:20+0000',\n",
       "   'id': '1817955871593028_1567901536598464'},\n",
       "  {'message': '#Farewell :)',\n",
       "   'created_time': '2018-04-11T13:59:01+0000',\n",
       "   'id': '1817955871593028_1566277753427509'},\n",
       "  {'message': 'Always remember that you are absolutely unique just like everyone else  ;) :) \\n  #farewell #NoEdits #BestOfMe  ;)',\n",
       "   'created_time': '2018-04-11T13:33:45+0000',\n",
       "   'id': '1817955871593028_1566259766762641'},\n",
       "  {'created_time': '2018-03-31T08:35:12+0000',\n",
       "   'id': '1817955871593028_1555446067844011'},\n",
       "  {'message': 'Can never find a loving friend like you dear :)\\n#bestiesForever #fun #memories',\n",
       "   'created_time': '2018-03-13T14:19:15+0000',\n",
       "   'id': '1817955871593028_1538188782903073'},\n",
       "  {'message': 'Traditional day 2k18',\n",
       "   'created_time': '2018-03-12T17:36:16+0000',\n",
       "   'id': '1817955871593028_1537235882998363'},\n",
       "  {'message': '#wedding diaries',\n",
       "   'created_time': '2018-02-21T02:38:09+0000',\n",
       "   'id': '1817955871593028_1518433038211981'},\n",
       "  {'created_time': '2017-12-16T16:53:20+0000',\n",
       "   'id': '1817955871593028_1459633504091935'},\n",
       "  {'message': 'Placement celebration with family 😇🙂 Aishwarya Chavan',\n",
       "   'created_time': '2017-10-03T11:39:05+0000',\n",
       "   'id': '1817955871593028_1394944097227543'},\n",
       "  {'message': 'Lol😹😹😹',\n",
       "   'created_time': '2017-08-06T17:15:03+0000',\n",
       "   'id': '1817955871593028_1347024572019496'},\n",
       "  {'created_time': '2017-07-19T14:10:13+0000',\n",
       "   'id': '1817955871593028_1330233687031918'},\n",
       "  {'created_time': '2017-06-03T09:24:02+0000',\n",
       "   'id': '1817955871593028_1285084594880161'},\n",
       "  {'message': '(big) LOL 🙈🙊😹😹😹😹😹',\n",
       "   'created_time': '2017-05-19T12:15:37+0000',\n",
       "   'id': '1817955871593028_1273356542719633'},\n",
       "  {'created_time': '2017-05-19T06:24:22+0000',\n",
       "   'id': '1817955871593028_1273162666072354'},\n",
       "  {'message': 'Lol',\n",
       "   'created_time': '2017-05-14T04:23:37+0000',\n",
       "   'id': '1817955871593028_1269282173127070'},\n",
       "  {'message': \"I'm in love with the shape of you...💓🎵🎶🎧🎤\",\n",
       "   'created_time': '2017-02-17T08:08:45+0000',\n",
       "   'id': '1817955871593028_1189073261147962'},\n",
       "  {'created_time': '2017-02-12T13:17:32+0000',\n",
       "   'id': '1817955871593028_1185223694866252'},\n",
       "  {'created_time': '2017-01-26T13:44:05+0000',\n",
       "   'id': '1817955871593028_1170750266313595'},\n",
       "  {'message': \"ZEST'17😇😋\",\n",
       "   'created_time': '2017-01-26T10:32:01+0000',\n",
       "   'id': '1817955871593028_1170630526325569'},\n",
       "  {'created_time': '2016-06-10T08:30:33+0000',\n",
       "   'id': '1817955871593028_990128524375771'},\n",
       "  {'created_time': '2016-06-04T15:08:06+0000',\n",
       "   'id': '1817955871593028_987296341325656'}],\n",
       " 'paging': {'previous': 'https://graph.facebook.com/v3.2/1817955871593028/feed?since=1538564858&access_token=EAACh7rYfWOoBAJV5CEHpSXFgUp1N92Nz8IJ4FcNb797ob52edUQro2mAy8LrZADlSItnZChkbWnH87vXZAU2AA9JJjtGvKQFS71MTORLkUQUUKlKD4SvLhKBpc6N1sYjHsUhrxghzhy3Dl85H9sXk4EMKgnb2EZD&limit=25&__paging_token=enc_AdCHa6rRKvhFL5sd1h256UCpZCHd3ZBgYDCtoZBZAwrgctefYPIde9Cdv9NfbXod2D9ves9HKRR8OjIQdQEAkGvP6nFIIVXiCiZCZA4N2QBmeTSPjFYAZDZD&__previous=1',\n",
       "  'next': 'https://graph.facebook.com/v3.2/1817955871593028/feed?access_token=EAACh7rYfWOoBAJV5CEHpSXFgUp1N92Nz8IJ4FcNb797ob52edUQro2mAy8LrZADlSItnZChkbWnH87vXZAU2AA9JJjtGvKQFS71MTORLkUQUUKlKD4SvLhKBpc6N1sYjHsUhrxghzhy3Dl85H9sXk4EMKgnb2EZD&limit=25&until=1465052886&__paging_token=enc_AdAes9T3G8XQjCdHbz4q6cCq62IXUZBQl0KTNqRljODmGGPvWvPtKh3hFDggNBNc7wp1UPKsiVmJHjZC4x4Qs4p0LZAXNxZCrwpGzeV84lwGUhg96gZDZD'}}"
      ]
     },
     "execution_count": 13,
     "metadata": {},
     "output_type": "execute_result"
    }
   ],
   "source": [
    "events"
   ]
  },
  {
   "cell_type": "code",
   "execution_count": 5,
   "metadata": {},
   "outputs": [],
   "source": [
    "#graph = facebook.GraphAPI(access_token=token, version = 2.7)\n",
    "#events = graph.request('/search?q=Dance&type=event')"
   ]
  },
  {
   "cell_type": "code",
   "execution_count": 11,
   "metadata": {},
   "outputs": [],
   "source": [
    "#get list of events\n",
    "eventList = events['data']\n",
    "#events is a dicionary where data is a list of dictionaries with keys 'message'-like caption, 'story'-title, 'created time' ,'id'"
   ]
  },
  {
   "cell_type": "code",
   "execution_count": 15,
   "metadata": {},
   "outputs": [
    {
     "name": "stdout",
     "output_type": "stream",
     "text": [
      "{'message': \"Open  for  all... Just Grab  It... I M Let's.. WE R Let's\", 'story': \"Madhuri Rathod added a new photo to Let's Dance Academy's timeline — with Snehal Pawar and 35 others.\", 'created_time': '2018-10-03T11:07:38+0000', 'id': '1817955871593028_1781070271948255'}\n",
      "{'created_time': '2018-04-21T05:08:27+0000', 'id': '1817955871593028_1575453122509972'}\n",
      "{'created_time': '2018-04-16T08:29:01+0000', 'id': '1817955871593028_1570899496298668'}\n",
      "{'message': 'Please spare your 1 minute for a step towards justice for Asifa.', 'created_time': '2018-04-14T07:40:47+0000', 'id': '1817955871593028_1568915413163743'}\n",
      "{'message': 'COEP COMP 2014-2018  <3 <3', 'created_time': '2018-04-13T07:52:20+0000', 'id': '1817955871593028_1567901536598464'}\n",
      "{'message': '#Farewell :)', 'created_time': '2018-04-11T13:59:01+0000', 'id': '1817955871593028_1566277753427509'}\n",
      "{'message': 'Always remember that you are absolutely unique just like everyone else  ;) :) \\n  #farewell #NoEdits #BestOfMe  ;)', 'created_time': '2018-04-11T13:33:45+0000', 'id': '1817955871593028_1566259766762641'}\n",
      "{'created_time': '2018-03-31T08:35:12+0000', 'id': '1817955871593028_1555446067844011'}\n",
      "{'message': 'Can never find a loving friend like you dear :)\\n#bestiesForever #fun #memories', 'created_time': '2018-03-13T14:19:15+0000', 'id': '1817955871593028_1538188782903073'}\n",
      "{'message': 'Traditional day 2k18', 'created_time': '2018-03-12T17:36:16+0000', 'id': '1817955871593028_1537235882998363'}\n"
     ]
    }
   ],
   "source": [
    "#get first 10 items from eventList\n",
    "for i in range(10):\n",
    "    print(eventList[i])"
   ]
  },
  {
   "cell_type": "code",
   "execution_count": 17,
   "metadata": {},
   "outputs": [
    {
     "data": {
      "text/plain": [
       "'1817955871593028_1575453122509972'"
      ]
     },
     "execution_count": 17,
     "metadata": {},
     "output_type": "execute_result"
    }
   ],
   "source": [
    "#Get the EventID of the first event in the list by\n",
    "eventid = eventList[1]['id']\n",
    "eventid"
   ]
  },
  {
   "cell_type": "code",
   "execution_count": 43,
   "metadata": {},
   "outputs": [],
   "source": [
    "#For this EventID, get all information and set few variables which will be used later by:\n",
    "\n",
    "event1 = graph.get_object(id=eventid, fields='description, place,type,updated_time')\n"
   ]
  },
  {
   "cell_type": "code",
   "execution_count": 40,
   "metadata": {},
   "outputs": [
    {
     "data": {
      "text/plain": [
       "dict"
      ]
     },
     "execution_count": 40,
     "metadata": {},
     "output_type": "execute_result"
    }
   ],
   "source": [
    "type(event1)"
   ]
  },
  {
   "cell_type": "code",
   "execution_count": 54,
   "metadata": {},
   "outputs": [
    {
     "data": {
      "text/plain": [
       "{'id': '262317934429379',\n",
       " 'name': 'Test_social_stars',\n",
       " 'posts': {'data': [{'id': '262317934429379_262319274429245'},\n",
       "   {'comments': {'data': [{'created_time': '2018-11-02T13:04:55+0000',\n",
       "       'from': {'name': 'Test_social_stars', 'id': '262317934429379'},\n",
       "       'message': 'testing',\n",
       "       'id': '262318934429279_262319161095923'}],\n",
       "     'paging': {'cursors': {'before': 'WTI5dGJXVnVkRjlqZAFhKemIzSTZANall5TXpFNU1UWXhNRGsxT1RJek9qRTFOREV4TmpNNE9UVT0ZD',\n",
       "       'after': 'WTI5dGJXVnVkRjlqZAFhKemIzSTZANall5TXpFNU1UWXhNRGsxT1RJek9qRTFOREV4TmpNNE9UVT0ZD'}}},\n",
       "    'id': '262317934429379_262318934429279'}],\n",
       "  'paging': {'cursors': {'before': 'Q2c4U1pXNTBYM0YxWlhKNVgzTjBiM0o1WDJsa0R5TXlOakl6TVRjNU16UTBNamt6TnprNkxUWXlORFExT1RRM09UY3hOVEE0TWpjek13OE1ZAWEJwWDNOMGIzSjVYMmxrRHg4eU5qSXpNVGM1TXpRME1qa3pOemxmTWpZAeU16RTVNamMwTkRJNU1qUTFEd1IwYVcxbEJsdmNTNDBC',\n",
       "    'after': 'Q2c4U1pXNTBYM0YxWlhKNVgzTjBiM0o1WDJsa0R5TXlOakl6TVRjNU16UTBNamt6TnprNk5EVTBPREUzTkRnMk1ESXpNVFEyTVRjek13OE1ZAWEJwWDNOMGIzSjVYMmxrRHg4eU5qSXpNVGM1TXpRME1qa3pOemxmTWpZAeU16RTRPVE0wTkRJNU1qYzVEd1IwYVcxbEJsdmNTemdC'}}}}"
      ]
     },
     "execution_count": 54,
     "metadata": {},
     "output_type": "execute_result"
    }
   ],
   "source": [
    "token1 = \"EAAIMjYAdzCMBAEigDMt3LmfMUya74hReZAgl99ZCP98XyAdQMBXiiD80jESd2ghldOOzlx4oYi7qFrwkdKfd79hSzhSG9Ak7feSzYSe4MqBG8yAF0frlzvZAWdtIZBfZCoOTmtzDLBSVgjLn9H1ggZB9RBZCt31euAwQPyQOoEwZB16XPoShR0yupv8zgIcZAywdN36ehlYi2gAZDZD\"\n",
    "graph = facebook.GraphAPI(access_token=token1, version = 3.0)\n",
    "events1 = graph.request(\"me?fields=id,name,posts{shares,comments}\")\n",
    "events1"
   ]
  },
  {
   "cell_type": "code",
   "execution_count": null,
   "metadata": {},
   "outputs": [],
   "source": [
    "\n",
    "  \"id\": \"1819439464778002\""
   ]
  }
 ],
 "metadata": {
  "kernelspec": {
   "display_name": "Python 3",
   "language": "python",
   "name": "python3"
  },
  "language_info": {
   "codemirror_mode": {
    "name": "ipython",
    "version": 3
   },
   "file_extension": ".py",
   "mimetype": "text/x-python",
   "name": "python",
   "nbconvert_exporter": "python",
   "pygments_lexer": "ipython3",
   "version": "3.6.5"
  }
 },
 "nbformat": 4,
 "nbformat_minor": 2
}
