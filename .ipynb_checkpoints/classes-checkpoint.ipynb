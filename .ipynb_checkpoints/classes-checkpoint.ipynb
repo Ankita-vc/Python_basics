{
 "cells": [
  {
   "cell_type": "code",
   "execution_count": 57,
   "metadata": {},
   "outputs": [
    {
     "name": "stdout",
     "output_type": "stream",
     "text": [
      "mammal \n"
     ]
    }
   ],
   "source": [
    "# Parent class\n",
    "class Dog:\n",
    "\n",
    "    # Class attribute\n",
    "    species = 'mammal'\n",
    "\n",
    "    # Initializer / Instance attributes\n",
    "    def __init__(self, name, age):\n",
    "        self.name = name\n",
    "        self.age = age\n",
    "        self.is_hungry = True\n",
    "    # instance method\n",
    "    def description(self):\n",
    "        return \"{} is {} years old\".format(self.name, self.age)\n",
    "\n",
    "    # instance method\n",
    "    def speak(self, sound):\n",
    "        return \"{} says {}\".format(self.name, sound)\n",
    "    \n",
    "    def eat(self):\n",
    "        self.is_hungry = False\n",
    "\n",
    "# Child class (inherits from Dog class)\n",
    "class RussellTerrier(Dog):\n",
    "    def run(self, speed):\n",
    "        return \"{} runs {}\".format(self.name, speed)\n",
    "\n",
    "# Child class (inherits from Dog class)\n",
    "class Bulldog(Dog):\n",
    "    def run(self, speed):\n",
    "        return \"{} runs {}\".format(self.name, speed)\n",
    "\n",
    "\n",
    "#pets class\n",
    "def func_R():\n",
    "    name = input(\"give name for RussellTerrier dog\")\n",
    "    age = input(\"age for RussellTerrier\")\n",
    "    a = RussellTerrier(name, age)\n",
    "    return a\n",
    "def func_B():\n",
    "    name = input(\"give name for Bulldog dog\")\n",
    "    age = input(\"age for Bulldog\")\n",
    "    a = Bulldog(name, age)\n",
    "    return a\n",
    "\n",
    "def add_pets(my_pets):\n",
    "    which_dog = int(input(\"Which specie of dog you want buy: 1 for RussellTerrier, 2 for Bulldog \"))\n",
    "    if which_dog == 1:\n",
    "        my_pet = func_R()\n",
    "        my_pets.append(my_pet)\n",
    "    if which_dog == 2:\n",
    "        my_pet = func_B()\n",
    "        my_pets.append(my_pet)\n",
    "    return\n",
    "#id(Dog)\n",
    "dog_inst = Dog(\"Abc\", 2)\n",
    "print(\"{0} \".format(dog_inst.__class__.species))"
   ]
  },
  {
   "cell_type": "code",
   "execution_count": 31,
   "metadata": {},
   "outputs": [],
   "source": [
    "class Pets:\n",
    "    my_pets = []\n",
    "    def __init__(self, list1):\n",
    "        self.my_pets = list1"
   ]
  },
  {
   "cell_type": "code",
   "execution_count": 34,
   "metadata": {},
   "outputs": [
    {
     "name": "stdout",
     "output_type": "stream",
     "text": [
      "Do you want to buy petsn\n"
     ]
    }
   ],
   "source": [
    "y_n = input(\"Do you want to buy pets\")\n",
    "my_pets = []\n",
    "\n",
    "while(y_n == \"y\"):\n",
    "    add_pets(my_pets)\n",
    "    y_n_1 = input(\"Do you want to continue? y/n\")\n",
    "    if y_n_1 == \"y\":\n",
    "        continue\n",
    "    else:\n",
    "        break\n",
    "a = Pets(my_pets)\n",
    "\n",
    "for i in a.my_pets[:]:\n",
    "    print(\"{0} is name and {1} is age\".format(i.name, i.age))\n",
    "    \n"
   ]
  },
  {
   "cell_type": "code",
   "execution_count": null,
   "metadata": {},
   "outputs": [],
   "source": []
  },
  {
   "cell_type": "code",
   "execution_count": 41,
   "metadata": {},
   "outputs": [
    {
     "name": "stdout",
     "output_type": "stream",
     "text": [
      "arg_1: 1\n",
      "arg_2: 2\n",
      "arg_3: 3\n",
      "kwarg_1: Val\n",
      "kwarg_2: Harper\n",
      "kwarg_3: Remy\n"
     ]
    }
   ],
   "source": [
    "def some_args(arg_1, arg_2, arg_3, kwarg_1, kwarg_2, kwarg_3):\n",
    "    print(\"arg_1:\", arg_1)\n",
    "    print(\"arg_2:\", arg_2)\n",
    "    print(\"arg_3:\", arg_3) \n",
    "    print(\"kwarg_1:\", kwarg_1)\n",
    "    print(\"kwarg_2:\", kwarg_2)\n",
    "    print(\"kwarg_3:\", kwarg_3)\n",
    "\n",
    "my_list = [2, 3]\n",
    "kwargs = {\"kwarg_1\": \"Val\", \"kwarg_2\": \"Harper\", \"kwarg_3\": \"Remy\"}\n",
    "some_args(1, *my_list, **kwargs)"
   ]
  },
  {
   "cell_type": "code",
   "execution_count": 42,
   "metadata": {},
   "outputs": [
    {
     "name": "stdout",
     "output_type": "stream",
     "text": [
      "1 2 3 4\n"
     ]
    }
   ],
   "source": [
    "def fn(a, b, c, d):\n",
    "    print(a, b, c, d)\n",
    "l1 = [1, 2]\n",
    "l2 = [3, 4]\n",
    "fn(*l1, *l2)"
   ]
  },
  {
   "cell_type": "code",
   "execution_count": 43,
   "metadata": {},
   "outputs": [
    {
     "name": "stdout",
     "output_type": "stream",
     "text": [
      "arg_1: 1\n"
     ]
    },
    {
     "ename": "NameError",
     "evalue": "name 'arg_2' is not defined",
     "output_type": "error",
     "traceback": [
      "\u001b[0;31m---------------------------------------------------------------------------\u001b[0m",
      "\u001b[0;31mNameError\u001b[0m                                 Traceback (most recent call last)",
      "\u001b[0;32m<ipython-input-43-fc78d7dba09e>\u001b[0m in \u001b[0;36m<module>\u001b[0;34m()\u001b[0m\n\u001b[1;32m      9\u001b[0m \u001b[0mmy_list\u001b[0m \u001b[0;34m=\u001b[0m \u001b[0;34m[\u001b[0m\u001b[0;36m2\u001b[0m\u001b[0;34m,\u001b[0m \u001b[0;36m3\u001b[0m\u001b[0;34m]\u001b[0m\u001b[0;34m\u001b[0m\u001b[0m\n\u001b[1;32m     10\u001b[0m \u001b[0mkwargs\u001b[0m \u001b[0;34m=\u001b[0m \u001b[0;34m{\u001b[0m\u001b[0;34m\"kwarg_1\"\u001b[0m\u001b[0;34m:\u001b[0m \u001b[0;34m\"Val\"\u001b[0m\u001b[0;34m,\u001b[0m \u001b[0;34m\"kwarg_2\"\u001b[0m\u001b[0;34m:\u001b[0m \u001b[0;34m\"Harper\"\u001b[0m\u001b[0;34m,\u001b[0m \u001b[0;34m\"kwarg_3\"\u001b[0m\u001b[0;34m:\u001b[0m \u001b[0;34m\"Remy\"\u001b[0m\u001b[0;34m}\u001b[0m\u001b[0;34m\u001b[0m\u001b[0m\n\u001b[0;32m---> 11\u001b[0;31m \u001b[0msome_args\u001b[0m\u001b[0;34m(\u001b[0m\u001b[0;36m1\u001b[0m\u001b[0;34m,\u001b[0m \u001b[0;34m*\u001b[0m\u001b[0mmy_list\u001b[0m\u001b[0;34m,\u001b[0m \u001b[0;34m**\u001b[0m\u001b[0mkwargs\u001b[0m\u001b[0;34m)\u001b[0m\u001b[0;34m\u001b[0m\u001b[0m\n\u001b[0m",
      "\u001b[0;32m<ipython-input-43-fc78d7dba09e>\u001b[0m in \u001b[0;36msome_args\u001b[0;34m(arg_1, *args, **kwargs)\u001b[0m\n\u001b[1;32m      1\u001b[0m \u001b[0;32mdef\u001b[0m \u001b[0msome_args\u001b[0m\u001b[0;34m(\u001b[0m\u001b[0marg_1\u001b[0m\u001b[0;34m,\u001b[0m \u001b[0;34m*\u001b[0m\u001b[0margs\u001b[0m\u001b[0;34m,\u001b[0m \u001b[0;34m**\u001b[0m\u001b[0mkwargs\u001b[0m\u001b[0;34m)\u001b[0m\u001b[0;34m:\u001b[0m\u001b[0;34m\u001b[0m\u001b[0m\n\u001b[1;32m      2\u001b[0m     \u001b[0mprint\u001b[0m\u001b[0;34m(\u001b[0m\u001b[0;34m\"arg_1:\"\u001b[0m\u001b[0;34m,\u001b[0m \u001b[0marg_1\u001b[0m\u001b[0;34m)\u001b[0m\u001b[0;34m\u001b[0m\u001b[0m\n\u001b[0;32m----> 3\u001b[0;31m     \u001b[0mprint\u001b[0m\u001b[0;34m(\u001b[0m\u001b[0;34m\"arg_2:\"\u001b[0m\u001b[0;34m,\u001b[0m \u001b[0marg_2\u001b[0m\u001b[0;34m)\u001b[0m\u001b[0;34m\u001b[0m\u001b[0m\n\u001b[0m\u001b[1;32m      4\u001b[0m     \u001b[0mprint\u001b[0m\u001b[0;34m(\u001b[0m\u001b[0;34m\"arg_3:\"\u001b[0m\u001b[0;34m,\u001b[0m \u001b[0marg_3\u001b[0m\u001b[0;34m)\u001b[0m\u001b[0;34m\u001b[0m\u001b[0m\n\u001b[1;32m      5\u001b[0m     \u001b[0mprint\u001b[0m\u001b[0;34m(\u001b[0m\u001b[0;34m\"kwarg_1:\"\u001b[0m\u001b[0;34m,\u001b[0m \u001b[0mkwarg_1\u001b[0m\u001b[0;34m)\u001b[0m\u001b[0;34m\u001b[0m\u001b[0m\n",
      "\u001b[0;31mNameError\u001b[0m: name 'arg_2' is not defined"
     ]
    }
   ],
   "source": [
    "def some_args(arg_1, *args, **kwargs):\n",
    "    print(\"arg_1:\", arg_1)\n",
    "    print(\"arg_2:\", arg_2)\n",
    "    print(\"arg_3:\", arg_3) \n",
    "    print(\"kwarg_1:\", kwarg_1)\n",
    "    print(\"kwarg_2:\", kwarg_2)\n",
    "    print(\"kwarg_3:\", kwarg_3)\n",
    "\n",
    "my_list = [2, 3]\n",
    "kwargs = {\"kwarg_1\": \"Val\", \"kwarg_2\": \"Harper\", \"kwarg_3\": \"Remy\"}\n",
    "some_args(1, *my_list, **kwargs)"
   ]
  },
  {
   "cell_type": "code",
   "execution_count": 50,
   "metadata": {},
   "outputs": [
    {
     "name": "stdout",
     "output_type": "stream",
     "text": [
      "1\n",
      "[2, 3]\n",
      "{'kwarg_1': 'Val', 'kwarg_2': 'Harper', 'kwarg_3': 'Remy'}\n"
     ]
    }
   ],
   "source": [
    "def some_args(*args, **kwargs):\n",
    "    for i in args:\n",
    "        print(i)\n",
    "    for k, v in kwargs.items():\n",
    "        print(k, v)\n",
    "my_list = [2, 3]\n",
    "kwargs = {\"kwarg_1\": \"Val\", \"kwarg_2\": \"Harper\", \"kwarg_3\": \"Remy\"}\n",
    "some_args(1, my_list, kwargs)"
   ]
  },
  {
   "cell_type": "code",
   "execution_count": 48,
   "metadata": {},
   "outputs": [
    {
     "data": {
      "text/plain": [
       "140383914979784"
      ]
     },
     "execution_count": 48,
     "metadata": {},
     "output_type": "execute_result"
    }
   ],
   "source": [
    "id(my_list)"
   ]
  },
  {
   "cell_type": "code",
   "execution_count": 51,
   "metadata": {},
   "outputs": [
    {
     "name": "stdout",
     "output_type": "stream",
     "text": [
      "1\n",
      "2\n",
      "3\n",
      "kwarg_1 Val\n",
      "kwarg_2 Harper\n",
      "kwarg_3 Remy\n"
     ]
    }
   ],
   "source": [
    "def some_args(*args, **kwargs):\n",
    "    for i in args:\n",
    "        print(i)\n",
    "    for k, v in kwargs.items():\n",
    "        print(k, v)\n",
    "my_list = [2, 3]\n",
    "kwargs = {\"kwarg_1\": \"Val\", \"kwarg_2\": \"Harper\", \"kwarg_3\": \"Remy\"}\n",
    "some_args(1, *my_list, **kwargs)"
   ]
  },
  {
   "cell_type": "code",
   "execution_count": 52,
   "metadata": {},
   "outputs": [
    {
     "data": {
      "text/plain": [
       "94899695279064"
      ]
     },
     "execution_count": 52,
     "metadata": {},
     "output_type": "execute_result"
    }
   ],
   "source": [
    "id(Dog)"
   ]
  },
  {
   "cell_type": "markdown",
   "metadata": {},
   "source": [
    "#### Class Inheritance"
   ]
  },
  {
   "cell_type": "code",
   "execution_count": 59,
   "metadata": {},
   "outputs": [
    {
     "name": "stdout",
     "output_type": "stream",
     "text": [
      "Bird is ready\n",
      "Penguin is ready\n",
      "Penguin\n",
      "Swim faster\n",
      "Run faster\n"
     ]
    }
   ],
   "source": [
    "# parent class\n",
    "class Bird:\n",
    "    \n",
    "    def __init__(self):\n",
    "        print(\"Bird is ready\")\n",
    "\n",
    "    def whoisThis(self):\n",
    "        print(\"Bird\")\n",
    "\n",
    "    def swim(self):\n",
    "        print(\"Swim faster\")\n",
    "\n",
    "# child class\n",
    "class Penguin(Bird):\n",
    "\n",
    "    def __init__(self):\n",
    "        # call super() function\n",
    "        super().__init__()\n",
    "        print(\"Penguin is ready\")\n",
    "\n",
    "    def whoisThis(self):\n",
    "        print(\"Penguin\")\n",
    "\n",
    "    def run(self):\n",
    "        print(\"Run faster\")\n",
    "\n",
    "peggy = Penguin()\n",
    "peggy.whoisThis()\n",
    "peggy.swim()\n",
    "peggy.run()\n"
   ]
  },
  {
   "cell_type": "markdown",
   "metadata": {},
   "source": [
    "#### Encapsulation"
   ]
  },
  {
   "cell_type": "code",
   "execution_count": 60,
   "metadata": {},
   "outputs": [
    {
     "name": "stdout",
     "output_type": "stream",
     "text": [
      "Selling Price: 900\n",
      "Selling Price: 900\n",
      "Selling Price: 1000\n"
     ]
    }
   ],
   "source": [
    "class Computer:\n",
    "\n",
    "    def __init__(self):\n",
    "        self.__maxprice = 900\n",
    "\n",
    "    def sell(self):\n",
    "        print(\"Selling Price: {}\".format(self.__maxprice))\n",
    "\n",
    "    def setMaxPrice(self, price):\n",
    "        self.__maxprice = price\n",
    "\n",
    "c = Computer()\n",
    "c.sell()\n",
    "\n",
    "# change the price\n",
    "c.__maxprice = 1000\n",
    "c.sell()\n",
    "\n",
    "# using setter function\n",
    "c.setMaxPrice(1000)\n",
    "c.sell()"
   ]
  },
  {
   "cell_type": "code",
   "execution_count": null,
   "metadata": {},
   "outputs": [],
   "source": []
  }
 ],
 "metadata": {
  "kernelspec": {
   "display_name": "Python 3",
   "language": "python",
   "name": "python3"
  },
  "language_info": {
   "codemirror_mode": {
    "name": "ipython",
    "version": 3
   },
   "file_extension": ".py",
   "mimetype": "text/x-python",
   "name": "python",
   "nbconvert_exporter": "python",
   "pygments_lexer": "ipython3",
   "version": "3.6.5"
  }
 },
 "nbformat": 4,
 "nbformat_minor": 2
}
