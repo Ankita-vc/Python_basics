{
 "cells": [
  {
   "cell_type": "code",
   "execution_count": 1,
   "metadata": {},
   "outputs": [
    {
     "name": "stdout",
     "output_type": "stream",
     "text": [
      "id(a) = 94451561187904\n",
      "id(a) = 94451561187936\n",
      "id(3) = 94451561187936\n",
      "id(2) = 94451561187904\n"
     ]
    }
   ],
   "source": [
    "# Note: You may get different value of id\n",
    "\n",
    "a = 2\n",
    "\n",
    "# Output: id(a) = 10919424\n",
    "print('id(a) =', id(a))\n",
    "\n",
    "a = a+1\n",
    "\n",
    "# Output: id(a) = 10919456\n",
    "print('id(a) =', id(a))\n",
    "# Output: id(3) = 10919456\n",
    "print('id(3) =', id(3))\n",
    "\n",
    "b = 2\n",
    "\n",
    "# Output: id(2)= 10919424\n",
    "print('id(2) =', id(2))"
   ]
  },
  {
   "cell_type": "code",
   "execution_count": 2,
   "metadata": {},
   "outputs": [
    {
     "name": "stdout",
     "output_type": "stream",
     "text": [
      "a = 30\n",
      "a = 20\n",
      "a = 10\n"
     ]
    }
   ],
   "source": [
    "def outer_function():\n",
    "    a = 20\n",
    "    def inner_function():\n",
    "        a = 30\n",
    "        print('a =',a)\n",
    "\n",
    "    inner_function()\n",
    "    print('a =',a)\n",
    "     \n",
    "a = 10\n",
    "outer_function()\n",
    "print('a =',a)"
   ]
  },
  {
   "cell_type": "code",
   "execution_count": null,
   "metadata": {},
   "outputs": [],
   "source": []
  }
 ],
 "metadata": {
  "kernelspec": {
   "display_name": "Python 3",
   "language": "python",
   "name": "python3"
  },
  "language_info": {
   "codemirror_mode": {
    "name": "ipython",
    "version": 3
   },
   "file_extension": ".py",
   "mimetype": "text/x-python",
   "name": "python",
   "nbconvert_exporter": "python",
   "pygments_lexer": "ipython3",
   "version": "3.6.5"
  }
 },
 "nbformat": 4,
 "nbformat_minor": 2
}
