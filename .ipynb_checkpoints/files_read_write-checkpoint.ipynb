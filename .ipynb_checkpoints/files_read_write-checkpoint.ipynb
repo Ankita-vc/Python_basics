{
 "cells": [
  {
   "cell_type": "code",
   "execution_count": 2,
   "metadata": {},
   "outputs": [
    {
     "data": {
      "text/plain": [
       "\"Loop statements may have an else clause; it is executed when the loop terminates through exhaustion of the list (with for) or when the condition becomes false (with while), but not when the loop is terminated by a break statement.\\n a loop’s else clause runs when no break occurs. \\n\\n In a function call, keyword arguments must follow positional arguments.\\n\\nIt is possible to assign the result of a comparison or other Boolean expression to a variable.\\neg.\\nstring1, string2, string3 = '', 'Trondheim', 'Hammer Dance'\\nnon_null = string1 or string2 or string3\\nnon_null\\n\\n\\n TODO:\\n 1)\\n Enumerate\\n\\n 2)\\n Iterators\\n\\n 3)\\n Generators\\n\\n 4)\\n circular imports\""
      ]
     },
     "execution_count": 2,
     "metadata": {},
     "output_type": "execute_result"
    }
   ],
   "source": [
    "#Normally, files are opened in text mode\n",
    "f = open('python.txt')\n",
    "f.read()\n"
   ]
  },
  {
   "cell_type": "code",
   "execution_count": 3,
   "metadata": {},
   "outputs": [
    {
     "name": "stdout",
     "output_type": "stream",
     "text": [
      "Loop statements may have an else clause; it is executed when the loop terminates through exhaustion of the list (with for) or when the condition becomes false (with while), but not when the loop is terminated by a break statement.\n",
      " a loop’s else clause runs when no break occurs. \n",
      "\n",
      " In a function call, keyword arguments must follow positional arguments.\n",
      "\n",
      "It is possible to assign the result of a comparison or other Boolean expression to a variable.\n",
      "eg.\n",
      "string1, string2, string3 = '', 'Trondheim', 'Hammer Dance'\n",
      "non_null = string1 or string2 or string3\n",
      "non_null\n",
      "\n",
      "\n",
      " TODO:\n",
      " 1)\n",
      " Enumerate\n",
      "\n",
      " 2)\n",
      " Iterators\n",
      "\n",
      " 3)\n",
      " Generators\n",
      "\n",
      " 4)\n",
      " circular imports\n"
     ]
    }
   ],
   "source": [
    "with open('python.txt') as f:\n",
    "    read_data = f.read()\n",
    "    \n",
    "print(read_data)"
   ]
  },
  {
   "cell_type": "code",
   "execution_count": 4,
   "metadata": {},
   "outputs": [],
   "source": [
    "f.close()\n",
    "#when with is used there is no need of explicitly closing the file"
   ]
  },
  {
   "cell_type": "markdown",
   "metadata": {},
   "source": [
    "#### For reading file using file object."
   ]
  },
  {
   "cell_type": "code",
   "execution_count": 7,
   "metadata": {},
   "outputs": [
    {
     "name": "stdout",
     "output_type": "stream",
     "text": [
      "Loop statements may have an else clause; it is executed when the loop terminates through exhaustion of the list (with for) or when the condition becomes false (with while), but not when the loop is terminated by a break statement.\n",
      " a loop’s else clause runs when no break occurs. \n",
      "\n",
      " In a function call, keyword arguments must follow positional arguments.\n",
      "\n",
      "It is possible to assign the result of a comparison or other Boolean expression to a variable.\n",
      "eg.\n",
      "string1, string2, string3 = '', 'Trondheim', 'Hammer Dance'\n",
      "non_null = string1 or string2 or string3\n",
      "non_null\n",
      "\n",
      "\n",
      " TODO:\n",
      " 1)\n",
      " Enumerate\n",
      "\n",
      " 2)\n",
      " Iterators\n",
      "\n",
      " 3)\n",
      " Generators\n",
      "\n",
      " 4)\n",
      " circular imports"
     ]
    }
   ],
   "source": [
    "f = open('python.txt')\n",
    "for line in f:\n",
    "    print(line, end='')\n",
    "\n"
   ]
  },
  {
   "cell_type": "markdown",
   "metadata": {},
   "source": [
    "#### readline() method"
   ]
  },
  {
   "cell_type": "code",
   "execution_count": 9,
   "metadata": {},
   "outputs": [
    {
     "data": {
      "text/plain": [
       "'Loop statements may have an else clause; it is executed when the loop terminates through exhaustion of the list (with for) or when the condition becomes false (with while), but not when the loop is terminated by a break statement.\\n'"
      ]
     },
     "execution_count": 9,
     "metadata": {},
     "output_type": "execute_result"
    }
   ],
   "source": [
    "#for reading single line\n",
    "f = open('python.txt')\n",
    "f.readline()"
   ]
  },
  {
   "cell_type": "markdown",
   "metadata": {},
   "source": [
    "#### read all the lines of a file in a list you can also use list(f) or f.readlines()"
   ]
  },
  {
   "cell_type": "code",
   "execution_count": 10,
   "metadata": {},
   "outputs": [
    {
     "data": {
      "text/plain": [
       "['Loop statements may have an else clause; it is executed when the loop terminates through exhaustion of the list (with for) or when the condition becomes false (with while), but not when the loop is terminated by a break statement.\\n',\n",
       " ' a loop’s else clause runs when no break occurs. \\n',\n",
       " '\\n',\n",
       " ' In a function call, keyword arguments must follow positional arguments.\\n',\n",
       " '\\n',\n",
       " 'It is possible to assign the result of a comparison or other Boolean expression to a variable.\\n',\n",
       " 'eg.\\n',\n",
       " \"string1, string2, string3 = '', 'Trondheim', 'Hammer Dance'\\n\",\n",
       " 'non_null = string1 or string2 or string3\\n',\n",
       " 'non_null\\n',\n",
       " '\\n',\n",
       " '\\n',\n",
       " ' TODO:\\n',\n",
       " ' 1)\\n',\n",
       " ' Enumerate\\n',\n",
       " '\\n',\n",
       " ' 2)\\n',\n",
       " ' Iterators\\n',\n",
       " '\\n',\n",
       " ' 3)\\n',\n",
       " ' Generators\\n',\n",
       " '\\n',\n",
       " ' 4)\\n',\n",
       " ' circular imports']"
      ]
     },
     "execution_count": 10,
     "metadata": {},
     "output_type": "execute_result"
    }
   ],
   "source": [
    "f = open('python.txt')\n",
    "list1 = list(f)\n",
    "list1"
   ]
  },
  {
   "cell_type": "code",
   "execution_count": 11,
   "metadata": {},
   "outputs": [],
   "source": [
    "f.close()"
   ]
  },
  {
   "cell_type": "code",
   "execution_count": 13,
   "metadata": {},
   "outputs": [
    {
     "data": {
      "text/plain": [
       "['Loop statements may have an else clause; it is executed when the loop terminates through exhaustion of the list (with for) or when the condition becomes false (with while), but not when the loop is terminated by a break statement.\\n',\n",
       " ' a loop’s else clause runs when no break occurs. \\n',\n",
       " '\\n',\n",
       " ' In a function call, keyword arguments must follow positional arguments.\\n',\n",
       " '\\n',\n",
       " 'It is possible to assign the result of a comparison or other Boolean expression to a variable.\\n',\n",
       " 'eg.\\n',\n",
       " \"string1, string2, string3 = '', 'Trondheim', 'Hammer Dance'\\n\",\n",
       " 'non_null = string1 or string2 or string3\\n',\n",
       " 'non_null\\n',\n",
       " '\\n',\n",
       " '\\n',\n",
       " ' TODO:\\n',\n",
       " ' 1)\\n',\n",
       " ' Enumerate\\n',\n",
       " '\\n',\n",
       " ' 2)\\n',\n",
       " ' Iterators\\n',\n",
       " '\\n',\n",
       " ' 3)\\n',\n",
       " ' Generators\\n',\n",
       " '\\n',\n",
       " ' 4)\\n',\n",
       " ' circular imports']"
      ]
     },
     "execution_count": 13,
     "metadata": {},
     "output_type": "execute_result"
    }
   ],
   "source": [
    "with open('python.txt') as f:\n",
    "    list2 = f.readlines()\n",
    "list2"
   ]
  },
  {
   "cell_type": "code",
   "execution_count": 14,
   "metadata": {},
   "outputs": [],
   "source": [
    "with open('write_to.txt','w') as f:\n",
    "    f.write(\"hi Ankita\")"
   ]
  },
  {
   "cell_type": "code",
   "execution_count": 15,
   "metadata": {},
   "outputs": [],
   "source": [
    "with open('write_to.txt','a+') as f:\n",
    "    value = ('the answer', 42)\n",
    "    s = str(value)  # convert the tuple to string\n",
    "    f.write(s)\n"
   ]
  },
  {
   "cell_type": "code",
   "execution_count": 17,
   "metadata": {},
   "outputs": [
    {
     "data": {
      "text/plain": [
       "b'5'"
      ]
     },
     "execution_count": 17,
     "metadata": {},
     "output_type": "execute_result"
    }
   ],
   "source": [
    "f = open('python.txt', 'rb+')\n",
    "f.write(b'0123456789abcdef')\n",
    "\n",
    "f.seek(5)      # Go to the 6th byte in the file\n",
    "\n",
    "f.read(1)\n",
    "\n"
   ]
  },
  {
   "cell_type": "code",
   "execution_count": 23,
   "metadata": {},
   "outputs": [
    {
     "data": {
      "text/plain": [
       "b'r'"
      ]
     },
     "execution_count": 23,
     "metadata": {},
     "output_type": "execute_result"
    }
   ],
   "source": [
    "f.seek(-3,2)  # Go to the 3rd byte before the end\n",
    "\n",
    "f.read(1)"
   ]
  },
  {
   "cell_type": "markdown",
   "metadata": {},
   "source": [
    "#### Saving structured data with json"
   ]
  },
  {
   "cell_type": "code",
   "execution_count": 27,
   "metadata": {},
   "outputs": [
    {
     "data": {
      "text/plain": [
       "'[1, \"simple\", \"list\"]'"
      ]
     },
     "execution_count": 27,
     "metadata": {},
     "output_type": "execute_result"
    }
   ],
   "source": [
    "import json\n",
    "a = json.dumps([1, 'simple', 'list'])\n",
    "a\n",
    "# json can take Python data hierarchies, and convert them to string representations; \n",
    "#this process is called serializing. "
   ]
  },
  {
   "cell_type": "code",
   "execution_count": 28,
   "metadata": {},
   "outputs": [
    {
     "data": {
      "text/plain": [
       "str"
      ]
     },
     "execution_count": 28,
     "metadata": {},
     "output_type": "execute_result"
    }
   ],
   "source": [
    "type(a)"
   ]
  },
  {
   "cell_type": "code",
   "execution_count": 30,
   "metadata": {},
   "outputs": [],
   "source": [
    "with open('json_dump.txt',mode= 'w') as f:\n",
    "    json.dump(a, f)\n",
    "# dump(), simply serializes the object to a text file. "
   ]
  },
  {
   "cell_type": "code",
   "execution_count": 33,
   "metadata": {},
   "outputs": [
    {
     "data": {
      "text/plain": [
       "str"
      ]
     },
     "execution_count": 33,
     "metadata": {},
     "output_type": "execute_result"
    }
   ],
   "source": [
    "f = open('json_dump.txt','r')\n",
    "b = json.load(f)\n",
    "type(b)"
   ]
  }
 ],
 "metadata": {
  "kernelspec": {
   "display_name": "Python 3",
   "language": "python",
   "name": "python3"
  },
  "language_info": {
   "codemirror_mode": {
    "name": "ipython",
    "version": 3
   },
   "file_extension": ".py",
   "mimetype": "text/x-python",
   "name": "python",
   "nbconvert_exporter": "python",
   "pygments_lexer": "ipython3",
   "version": "3.6.5"
  }
 },
 "nbformat": 4,
 "nbformat_minor": 2
}
