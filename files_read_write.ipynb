{
 "cells": [
  {
   "cell_type": "code",
   "execution_count": 5,
   "metadata": {},
   "outputs": [
    {
     "data": {
      "text/plain": [
       "\"Loop statements may have an else clause; it is executed when the loop terminates through exhaustion of the list (with for) or when the condition becomes false (with while), but not when the loop is terminated by a break statement.\\n a loop’s else clause runs when no break occurs. \\n\\n In a function call, keyword arguments must follow positional arguments.\\n\\nIt is possible to assign the result of a comparison or other Boolean expression to a variable.\\neg.\\nstring1, string2, string3 = '', 'Trondheim', 'Hammer Dance'\\nnon_null = string1 or string2 or string3\\nnon_null\\n\\n\\n TODO:\\n 1)\\n Enumerate\\n\\n 2)\\n Iterators\\n\\n 3)\\n Generators\\n\\n 4)\\n circular imports\""
      ]
     },
     "execution_count": 5,
     "metadata": {},
     "output_type": "execute_result"
    }
   ],
   "source": [
    "#Normally, files are opened in text mode\n",
    "f = open('python.txt')\n",
    "f.read()\n"
   ]
  },
  {
   "cell_type": "code",
   "execution_count": 8,
   "metadata": {},
   "outputs": [
    {
     "name": "stdout",
     "output_type": "stream",
     "text": [
      "Loop statements may have an else clause; it is executed when the loop terminates through exhaustion of the list (with for) or when the condition becomes false (with while), but not when the loop is terminated by a break statement.\n",
      " a loop’s else clause runs when no break occurs. \n",
      "\n",
      " In a function call, keyword arguments must follow positional arguments.\n",
      "\n",
      "It is possible to assign the result of a comparison or other Boolean expression to a variable.\n",
      "eg.\n",
      "string1, string2, string3 = '', 'Trondheim', 'Hammer Dance'\n",
      "non_null = string1 or string2 or string3\n",
      "non_null\n",
      "\n",
      "\n",
      " TODO:\n",
      " 1)\n",
      " Enumerate\n",
      "\n",
      " 2)\n",
      " Iterators\n",
      "\n",
      " 3)\n",
      " Generators\n",
      "\n",
      " 4)\n",
      " circular imports\n"
     ]
    }
   ],
   "source": [
    "with open('python.txt') as f:\n",
    "    read_data = f.read()\n",
    "    \n",
    "print(read_data)"
   ]
  },
  {
   "cell_type": "code",
   "execution_count": null,
   "metadata": {},
   "outputs": [],
   "source": []
  },
  {
   "cell_type": "code",
   "execution_count": null,
   "metadata": {},
   "outputs": [],
   "source": []
  }
 ],
 "metadata": {
  "kernelspec": {
   "display_name": "Python 3",
   "language": "python",
   "name": "python3"
  },
  "language_info": {
   "codemirror_mode": {
    "name": "ipython",
    "version": 3
   },
   "file_extension": ".py",
   "mimetype": "text/x-python",
   "name": "python",
   "nbconvert_exporter": "python",
   "pygments_lexer": "ipython3",
   "version": "3.6.5"
  }
 },
 "nbformat": 4,
 "nbformat_minor": 2
}
