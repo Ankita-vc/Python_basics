{
 "cells": [
  {
   "cell_type": "code",
   "execution_count": 1,
   "metadata": {},
   "outputs": [],
   "source": [
    "import facebook\n"
   ]
  },
  {
   "cell_type": "code",
   "execution_count": 2,
   "metadata": {},
   "outputs": [
    {
     "data": {
      "text/plain": [
       "{'data': [{'shares': {'count': 1},\n",
       "   'message': 'testing...',\n",
       "   'likes': {'data': [{'name': 'Test_social_stars', 'id': '262317934429379'}],\n",
       "    'paging': {'cursors': {'before': 'MjMxMjc2MzM3NTQ2MTEyMgZDZD',\n",
       "      'after': 'MjYyMzE3OTM0NDI5Mzc5'}}},\n",
       "   'comments': {'data': [{'like_count': 1,\n",
       "      'message': 'hi',\n",
       "      'comments': {'data': [{'id': '266670647327441_272769126717593'}],\n",
       "       'paging': {'cursors': {'before': 'QVFIUkxQZAXRLaE9KOVRScExEa0g2NktXV080U0dLdkhoNktUVkFzbjJ0SHFja3hrc2pyb21CWF9WOWJjV3N4UWJBdFM3dzdobzVZASTFxVWJac0pDUGZAfY2tR',\n",
       "         'after': 'QVFIUkxQZAXRLaE9KOVRScExEa0g2NktXV080U0dLdkhoNktUVkFzbjJ0SHFja3hrc2pyb21CWF9WOWJjV3N4UWJBdFM3dzdobzVZASTFxVWJac0pDUGZAfY2tR'}}},\n",
       "      'id': '266670647327441_272769086717597'}],\n",
       "    'paging': {'cursors': {'before': 'WTI5dGJXVnVkRjlqZAFhKemIzSTZANamN5TnpZANU1EZAzJOekUzTlRrM09qRTFORE0wTnpZAME1UZAz0ZD',\n",
       "      'after': 'WTI5dGJXVnVkRjlqZAFhKemIzSTZANamN5TnpZANU1EZAzJOekUzTlRrM09qRTFORE0wTnpZAME1UZAz0ZD'}}},\n",
       "   'reactions': {'data': [{'pic': 'https://scontent.xx.fbcdn.net/v/t1.0-1/p100x100/45278459_262318001096039_2156127913928294400_n.png?_nc_cat=103&_nc_ht=scontent.xx&oh=ad78babdfd1a9d83354fd1adb3b63515&oe=5CAC8A4C',\n",
       "      'id': '262317934429379',\n",
       "      'type': 'LIKE'}],\n",
       "    'paging': {'cursors': {'before': 'TVRNNU9URXdOell3TlRveE5UUXpORGMyTkRJd09qSTFOREE1TmpFMk1UTT0ZD',\n",
       "      'after': 'TWpZAeU16RTNPVE0wTkRJNU16YzVPakUxTkRJeE56YzFOVFk2TWpVME1EazJNVFl4TXc9PQZDZD'}}},\n",
       "   'id': '262317934429379_266670647327441'},\n",
       "  {'comments': {'data': [{'like_count': 0,\n",
       "      'message': 'done',\n",
       "      'id': '262319274429245_272769203384252'}],\n",
       "    'paging': {'cursors': {'before': 'WTI5dGJXVnVkRjlqZAFhKemIzSTZANamN5TnpZANU1qQXpNemcwTWpVeU9qRTFORE0wTnpZAME16Yz0ZD',\n",
       "      'after': 'WTI5dGJXVnVkRjlqZAFhKemIzSTZANamN5TnpZANU1qQXpNemcwTWpVeU9qRTFORE0wTnpZAME16Yz0ZD'}}},\n",
       "   'id': '262317934429379_262319274429245'},\n",
       "  {'message': 'just trying something #social_stars',\n",
       "   'likes': {'data': [{'name': 'Test_social_stars', 'id': '262317934429379'}],\n",
       "    'paging': {'cursors': {'before': 'MjMxMjc2MzM3NTQ2MTEyMgZDZD',\n",
       "      'after': 'MjYyMzE3OTM0NDI5Mzc5'}}},\n",
       "   'comments': {'data': [{'from': {'name': 'Test_social_stars',\n",
       "       'id': '262317934429379'},\n",
       "      'like_count': 0,\n",
       "      'message': 'testing',\n",
       "      'id': '262318934429279_262319161095923'}],\n",
       "    'paging': {'cursors': {'before': 'WTI5dGJXVnVkRjlqZAFhKemIzSTZANall5TXpFNU1UWXhNRGsxT1RJek9qRTFOREV4TmpNNE9UVT0ZD',\n",
       "      'after': 'WTI5dGJXVnVkRjlqZAFhKemIzSTZANall5TXpFNU1UWXhNRGsxT1RJek9qRTFOREV4TmpNNE9UVT0ZD'}}},\n",
       "   'reactions': {'data': [{'pic': 'https://scontent.xx.fbcdn.net/v/t1.0-1/p100x100/45278459_262318001096039_2156127913928294400_n.png?_nc_cat=103&_nc_ht=scontent.xx&oh=ad78babdfd1a9d83354fd1adb3b63515&oe=5CAC8A4C',\n",
       "      'id': '262317934429379',\n",
       "      'type': 'LIKE'}],\n",
       "    'paging': {'cursors': {'before': 'TVRNNU9URXdOell3TlRveE5UUXpORGMzTURRek9qSTFOREE1TmpFMk1UTT0ZD',\n",
       "      'after': 'TWpZAeU16RTNPVE0wTkRJNU16YzVPakUxTkRFeE5qTTRPRGM2TWpVME1EazJNVFl4TXc9PQZDZD'}}},\n",
       "   'id': '262317934429379_262318934429279'}],\n",
       " 'paging': {'cursors': {'before': 'Q2c4U1pXNTBYM0YxWlhKNVgzTjBiM0o1WDJsa0R5TXlOakl6TVRjNU16UTBNamt6TnprNk9EVTBOalUyTlRNd01qazFOVE13TWpJNU1ROE1ZAWEJwWDNOMGIzSjVYMmxrRHg4eU5qSXpNVGM1TXpRME1qa3pOemxmTWpZAMk5qY3dOalEzTXpJM05EUXhEd1IwYVcxbEJsdnJ3d3NC',\n",
       "   'after': 'Q2c4U1pXNTBYM0YxWlhKNVgzTjBiM0o1WDJsa0R5TXlOakl6TVRjNU16UTBNamt6TnprNk5EVTBPREUzTkRnMk1ESXpNVFEyTVRjek13OE1ZAWEJwWDNOMGIzSjVYMmxrRHg4eU5qSXpNVGM1TXpRME1qa3pOemxmTWpZAeU16RTRPVE0wTkRJNU1qYzVEd1IwYVcxbEJsdmNTemdC'}}}"
      ]
     },
     "execution_count": 2,
     "metadata": {},
     "output_type": "execute_result"
    }
   ],
   "source": [
    "\n",
    "token1 = \"EAAIMjYAdzCMBAFl2Kyq7ZBoNhE63MmEsTqZAGUY6ZBYnNqBwxy8EyLqehcYaVbGpTeJ7WCU0xkthZA4BIZC6Y6QDoVUDFU89H1ObTWEA6aVZAhzqPFOYY9XtMfLk0KHRZAlCYCVadHwJVBm9ZCtw0KqTLAogm6unFDZAzmU6kRGXsYntgxoy12jDXPbhy37PnKKuCGkr3ikHPYgZDZD\"\n",
    "graph = facebook.GraphAPI(access_token=token1, version = 3.0)\n",
    "events1 = graph.request(\"me/posts?fields=shares,sharedposts.limit(1000){from},message,likes{name},comments{from,like_count,message,comments{from,id,likes}},reactions{type,pic}&since=1541063892\")\n",
    "events1"
   ]
  },
  {
   "cell_type": "code",
   "execution_count": null,
   "metadata": {},
   "outputs": [],
   "source": []
  }
 ],
 "metadata": {
  "kernelspec": {
   "display_name": "Python 3",
   "language": "python",
   "name": "python3"
  },
  "language_info": {
   "codemirror_mode": {
    "name": "ipython",
    "version": 3
   },
   "file_extension": ".py",
   "mimetype": "text/x-python",
   "name": "python",
   "nbconvert_exporter": "python",
   "pygments_lexer": "ipython3",
   "version": "3.6.5"
  }
 },
 "nbformat": 4,
 "nbformat_minor": 2
}
